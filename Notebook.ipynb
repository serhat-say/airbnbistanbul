{
 "cells": [
  {
   "cell_type": "markdown",
   "id": "opposed-douglas",
   "metadata": {},
   "source": [
    "# Vader Sentiment Analysis on Airbnb Istanbul Data"
   ]
  },
  {
   "cell_type": "markdown",
   "id": "dressed-brain",
   "metadata": {},
   "source": [
    "## Business Understanding"
   ]
  },
  {
   "cell_type": "markdown",
   "id": "color-oregon",
   "metadata": {},
   "source": [
    "We always look at the comments on online processes like shopping, booking etc. Also, we look at the ratings all the time. However, are the comments always related and are the opinions always consistent with the ratings? For answering these questions, I constructed a three part project. In first part, opinions are mined. In second part, the ratings are examined and analyzed. Finally, the third part, opinions and ratings are compared for obtaining the relationship between them."
   ]
  },
  {
   "cell_type": "code",
   "execution_count": 1,
   "id": "absent-earth",
   "metadata": {},
   "outputs": [
    {
     "name": "stderr",
     "output_type": "stream",
     "text": [
      "[nltk_data] Downloading package vader_lexicon to\n",
      "[nltk_data]     C:\\Users\\serha\\AppData\\Roaming\\nltk_data...\n",
      "[nltk_data]   Package vader_lexicon is already up-to-date!\n"
     ]
    }
   ],
   "source": [
    "import pandas as pd\n",
    "import matplotlib.pyplot as plt\n",
    "%matplotlib inline\n",
    "import re\n",
    "from wordcloud import WordCloud, STOPWORDS, ImageColorGenerator\n",
    "import nltk\n",
    "nltk.download('vader_lexicon')\n",
    "from nltk.sentiment.vader import SentimentIntensityAnalyzer"
   ]
  },
  {
   "cell_type": "markdown",
   "id": "creative-success",
   "metadata": {},
   "source": [
    "## Data Understanding"
   ]
  },
  {
   "cell_type": "code",
   "execution_count": 2,
   "id": "scientific-psychiatry",
   "metadata": {},
   "outputs": [],
   "source": [
    "df_com = pd.read_csv(r'C:\\Users\\serha\\Downloads\\reviews.csv.gz',compression='gzip',error_bad_lines=False)"
   ]
  },
  {
   "cell_type": "code",
   "execution_count": 3,
   "id": "white-convention",
   "metadata": {},
   "outputs": [
    {
     "data": {
      "text/html": [
       "<div>\n",
       "<style scoped>\n",
       "    .dataframe tbody tr th:only-of-type {\n",
       "        vertical-align: middle;\n",
       "    }\n",
       "\n",
       "    .dataframe tbody tr th {\n",
       "        vertical-align: top;\n",
       "    }\n",
       "\n",
       "    .dataframe thead th {\n",
       "        text-align: right;\n",
       "    }\n",
       "</style>\n",
       "<table border=\"1\" class=\"dataframe\">\n",
       "  <thead>\n",
       "    <tr style=\"text-align: right;\">\n",
       "      <th></th>\n",
       "      <th>listing_id</th>\n",
       "      <th>id</th>\n",
       "      <th>date</th>\n",
       "      <th>reviewer_id</th>\n",
       "      <th>reviewer_name</th>\n",
       "      <th>comments</th>\n",
       "    </tr>\n",
       "  </thead>\n",
       "  <tbody>\n",
       "    <tr>\n",
       "      <th>0</th>\n",
       "      <td>20815</td>\n",
       "      <td>31174</td>\n",
       "      <td>2010-03-24</td>\n",
       "      <td>49388</td>\n",
       "      <td>Chuck</td>\n",
       "      <td>My daughter and her friend and I all stayed at...</td>\n",
       "    </tr>\n",
       "    <tr>\n",
       "      <th>1</th>\n",
       "      <td>20815</td>\n",
       "      <td>40738</td>\n",
       "      <td>2010-05-08</td>\n",
       "      <td>93598</td>\n",
       "      <td>Sara</td>\n",
       "      <td>You cannot find a better place to stay in Turk...</td>\n",
       "    </tr>\n",
       "    <tr>\n",
       "      <th>2</th>\n",
       "      <td>20815</td>\n",
       "      <td>49182</td>\n",
       "      <td>2010-06-02</td>\n",
       "      <td>108540</td>\n",
       "      <td>Suzan</td>\n",
       "      <td>This comfortable apartment truly deserves the ...</td>\n",
       "    </tr>\n",
       "    <tr>\n",
       "      <th>3</th>\n",
       "      <td>20815</td>\n",
       "      <td>85462</td>\n",
       "      <td>2010-08-27</td>\n",
       "      <td>126482</td>\n",
       "      <td>William</td>\n",
       "      <td>I second all the excellent reviews of this pla...</td>\n",
       "    </tr>\n",
       "    <tr>\n",
       "      <th>4</th>\n",
       "      <td>20815</td>\n",
       "      <td>89515</td>\n",
       "      <td>2010-09-03</td>\n",
       "      <td>180502</td>\n",
       "      <td>Pamela</td>\n",
       "      <td>Thanks to Firat and especially Arda for their ...</td>\n",
       "    </tr>\n",
       "  </tbody>\n",
       "</table>\n",
       "</div>"
      ],
      "text/plain": [
       "   listing_id     id        date  reviewer_id reviewer_name  \\\n",
       "0       20815  31174  2010-03-24        49388         Chuck   \n",
       "1       20815  40738  2010-05-08        93598          Sara   \n",
       "2       20815  49182  2010-06-02       108540         Suzan   \n",
       "3       20815  85462  2010-08-27       126482       William   \n",
       "4       20815  89515  2010-09-03       180502        Pamela   \n",
       "\n",
       "                                            comments  \n",
       "0  My daughter and her friend and I all stayed at...  \n",
       "1  You cannot find a better place to stay in Turk...  \n",
       "2  This comfortable apartment truly deserves the ...  \n",
       "3  I second all the excellent reviews of this pla...  \n",
       "4  Thanks to Firat and especially Arda for their ...  "
      ]
     },
     "execution_count": 3,
     "metadata": {},
     "output_type": "execute_result"
    }
   ],
   "source": [
    "df_com.head()"
   ]
  },
  {
   "cell_type": "code",
   "execution_count": 4,
   "id": "simplified-color",
   "metadata": {},
   "outputs": [],
   "source": [
    "df_list = pd.read_csv(r'C:\\Users\\serha\\Downloads\\listings.csv.gz',compression='gzip',error_bad_lines=False)"
   ]
  },
  {
   "cell_type": "code",
   "execution_count": 5,
   "id": "refined-balloon",
   "metadata": {},
   "outputs": [
    {
     "data": {
      "text/html": [
       "<div>\n",
       "<style scoped>\n",
       "    .dataframe tbody tr th:only-of-type {\n",
       "        vertical-align: middle;\n",
       "    }\n",
       "\n",
       "    .dataframe tbody tr th {\n",
       "        vertical-align: top;\n",
       "    }\n",
       "\n",
       "    .dataframe thead th {\n",
       "        text-align: right;\n",
       "    }\n",
       "</style>\n",
       "<table border=\"1\" class=\"dataframe\">\n",
       "  <thead>\n",
       "    <tr style=\"text-align: right;\">\n",
       "      <th></th>\n",
       "      <th>id</th>\n",
       "      <th>listing_url</th>\n",
       "      <th>scrape_id</th>\n",
       "      <th>last_scraped</th>\n",
       "      <th>name</th>\n",
       "      <th>description</th>\n",
       "      <th>neighborhood_overview</th>\n",
       "      <th>picture_url</th>\n",
       "      <th>host_id</th>\n",
       "      <th>host_url</th>\n",
       "      <th>...</th>\n",
       "      <th>review_scores_communication</th>\n",
       "      <th>review_scores_location</th>\n",
       "      <th>review_scores_value</th>\n",
       "      <th>license</th>\n",
       "      <th>instant_bookable</th>\n",
       "      <th>calculated_host_listings_count</th>\n",
       "      <th>calculated_host_listings_count_entire_homes</th>\n",
       "      <th>calculated_host_listings_count_private_rooms</th>\n",
       "      <th>calculated_host_listings_count_shared_rooms</th>\n",
       "      <th>reviews_per_month</th>\n",
       "    </tr>\n",
       "  </thead>\n",
       "  <tbody>\n",
       "    <tr>\n",
       "      <th>0</th>\n",
       "      <td>20815</td>\n",
       "      <td>https://www.airbnb.com/rooms/20815</td>\n",
       "      <td>20201231072304</td>\n",
       "      <td>2021-01-04</td>\n",
       "      <td>The Bosphorus from The Comfy Hill</td>\n",
       "      <td>Watch The Bosphorus from The Comfy Hill.&lt;br /&gt;...</td>\n",
       "      <td>The lovely neighborhood, Arnavutkoy, is locate...</td>\n",
       "      <td>https://a0.muscache.com/pictures/94805791/481d...</td>\n",
       "      <td>78838</td>\n",
       "      <td>https://www.airbnb.com/users/show/78838</td>\n",
       "      <td>...</td>\n",
       "      <td>10.0</td>\n",
       "      <td>10.0</td>\n",
       "      <td>9.0</td>\n",
       "      <td>NaN</td>\n",
       "      <td>f</td>\n",
       "      <td>2</td>\n",
       "      <td>1</td>\n",
       "      <td>1</td>\n",
       "      <td>0</td>\n",
       "      <td>0.31</td>\n",
       "    </tr>\n",
       "    <tr>\n",
       "      <th>1</th>\n",
       "      <td>27271</td>\n",
       "      <td>https://www.airbnb.com/rooms/27271</td>\n",
       "      <td>20201231072304</td>\n",
       "      <td>2021-01-06</td>\n",
       "      <td>Lovely apartment in perfect location</td>\n",
       "      <td>This is a  nicely decorated apartment in an an...</td>\n",
       "      <td>Cihangir is one of Istanbul's cosmopolitan sub...</td>\n",
       "      <td>https://a0.muscache.com/pictures/2f9cfc85-8370...</td>\n",
       "      <td>117026</td>\n",
       "      <td>https://www.airbnb.com/users/show/117026</td>\n",
       "      <td>...</td>\n",
       "      <td>10.0</td>\n",
       "      <td>10.0</td>\n",
       "      <td>10.0</td>\n",
       "      <td>NaN</td>\n",
       "      <td>f</td>\n",
       "      <td>1</td>\n",
       "      <td>1</td>\n",
       "      <td>0</td>\n",
       "      <td>0</td>\n",
       "      <td>0.30</td>\n",
       "    </tr>\n",
       "    <tr>\n",
       "      <th>2</th>\n",
       "      <td>28318</td>\n",
       "      <td>https://www.airbnb.com/rooms/28318</td>\n",
       "      <td>20201231072304</td>\n",
       "      <td>2021-01-02</td>\n",
       "      <td>Cosy home overlooking Bosphorus</td>\n",
       "      <td>&lt;b&gt;The space&lt;/b&gt;&lt;br /&gt;Easy access to both brid...</td>\n",
       "      <td>Close to Bosphorus University&lt;br /&gt;Close to Be...</td>\n",
       "      <td>https://a0.muscache.com/pictures/76617600/0ab5...</td>\n",
       "      <td>121721</td>\n",
       "      <td>https://www.airbnb.com/users/show/121721</td>\n",
       "      <td>...</td>\n",
       "      <td>NaN</td>\n",
       "      <td>NaN</td>\n",
       "      <td>NaN</td>\n",
       "      <td>NaN</td>\n",
       "      <td>f</td>\n",
       "      <td>1</td>\n",
       "      <td>1</td>\n",
       "      <td>0</td>\n",
       "      <td>0</td>\n",
       "      <td>NaN</td>\n",
       "    </tr>\n",
       "    <tr>\n",
       "      <th>3</th>\n",
       "      <td>29241</td>\n",
       "      <td>https://www.airbnb.com/rooms/29241</td>\n",
       "      <td>20201231072304</td>\n",
       "      <td>2021-01-04</td>\n",
       "      <td>↪ Istanbul, Your second house</td>\n",
       "      <td>&lt;b&gt;The space&lt;/b&gt;&lt;br /&gt;There are many interesti...</td>\n",
       "      <td>NaN</td>\n",
       "      <td>https://a0.muscache.com/pictures/12385994/b9ba...</td>\n",
       "      <td>125742</td>\n",
       "      <td>https://www.airbnb.com/users/show/125742</td>\n",
       "      <td>...</td>\n",
       "      <td>NaN</td>\n",
       "      <td>NaN</td>\n",
       "      <td>NaN</td>\n",
       "      <td>NaN</td>\n",
       "      <td>f</td>\n",
       "      <td>1</td>\n",
       "      <td>0</td>\n",
       "      <td>1</td>\n",
       "      <td>0</td>\n",
       "      <td>NaN</td>\n",
       "    </tr>\n",
       "    <tr>\n",
       "      <th>4</th>\n",
       "      <td>30697</td>\n",
       "      <td>https://www.airbnb.com/rooms/30697</td>\n",
       "      <td>20201231072304</td>\n",
       "      <td>2021-01-03</td>\n",
       "      <td>nice home in popular area</td>\n",
       "      <td>&lt;b&gt;The space&lt;/b&gt;&lt;br /&gt;I can ensure you that th...</td>\n",
       "      <td>NaN</td>\n",
       "      <td>https://a0.muscache.com/pictures/6392807/b6f01...</td>\n",
       "      <td>132137</td>\n",
       "      <td>https://www.airbnb.com/users/show/132137</td>\n",
       "      <td>...</td>\n",
       "      <td>NaN</td>\n",
       "      <td>NaN</td>\n",
       "      <td>NaN</td>\n",
       "      <td>NaN</td>\n",
       "      <td>f</td>\n",
       "      <td>1</td>\n",
       "      <td>0</td>\n",
       "      <td>1</td>\n",
       "      <td>0</td>\n",
       "      <td>0.01</td>\n",
       "    </tr>\n",
       "  </tbody>\n",
       "</table>\n",
       "<p>5 rows × 74 columns</p>\n",
       "</div>"
      ],
      "text/plain": [
       "      id                         listing_url       scrape_id last_scraped  \\\n",
       "0  20815  https://www.airbnb.com/rooms/20815  20201231072304   2021-01-04   \n",
       "1  27271  https://www.airbnb.com/rooms/27271  20201231072304   2021-01-06   \n",
       "2  28318  https://www.airbnb.com/rooms/28318  20201231072304   2021-01-02   \n",
       "3  29241  https://www.airbnb.com/rooms/29241  20201231072304   2021-01-04   \n",
       "4  30697  https://www.airbnb.com/rooms/30697  20201231072304   2021-01-03   \n",
       "\n",
       "                                   name  \\\n",
       "0     The Bosphorus from The Comfy Hill   \n",
       "1  Lovely apartment in perfect location   \n",
       "2       Cosy home overlooking Bosphorus   \n",
       "3         ↪ Istanbul, Your second house   \n",
       "4             nice home in popular area   \n",
       "\n",
       "                                         description  \\\n",
       "0  Watch The Bosphorus from The Comfy Hill.<br />...   \n",
       "1  This is a  nicely decorated apartment in an an...   \n",
       "2  <b>The space</b><br />Easy access to both brid...   \n",
       "3  <b>The space</b><br />There are many interesti...   \n",
       "4  <b>The space</b><br />I can ensure you that th...   \n",
       "\n",
       "                               neighborhood_overview  \\\n",
       "0  The lovely neighborhood, Arnavutkoy, is locate...   \n",
       "1  Cihangir is one of Istanbul's cosmopolitan sub...   \n",
       "2  Close to Bosphorus University<br />Close to Be...   \n",
       "3                                                NaN   \n",
       "4                                                NaN   \n",
       "\n",
       "                                         picture_url  host_id  \\\n",
       "0  https://a0.muscache.com/pictures/94805791/481d...    78838   \n",
       "1  https://a0.muscache.com/pictures/2f9cfc85-8370...   117026   \n",
       "2  https://a0.muscache.com/pictures/76617600/0ab5...   121721   \n",
       "3  https://a0.muscache.com/pictures/12385994/b9ba...   125742   \n",
       "4  https://a0.muscache.com/pictures/6392807/b6f01...   132137   \n",
       "\n",
       "                                   host_url  ... review_scores_communication  \\\n",
       "0   https://www.airbnb.com/users/show/78838  ...                        10.0   \n",
       "1  https://www.airbnb.com/users/show/117026  ...                        10.0   \n",
       "2  https://www.airbnb.com/users/show/121721  ...                         NaN   \n",
       "3  https://www.airbnb.com/users/show/125742  ...                         NaN   \n",
       "4  https://www.airbnb.com/users/show/132137  ...                         NaN   \n",
       "\n",
       "  review_scores_location review_scores_value license instant_bookable  \\\n",
       "0                   10.0                 9.0     NaN                f   \n",
       "1                   10.0                10.0     NaN                f   \n",
       "2                    NaN                 NaN     NaN                f   \n",
       "3                    NaN                 NaN     NaN                f   \n",
       "4                    NaN                 NaN     NaN                f   \n",
       "\n",
       "  calculated_host_listings_count calculated_host_listings_count_entire_homes  \\\n",
       "0                              2                                           1   \n",
       "1                              1                                           1   \n",
       "2                              1                                           1   \n",
       "3                              1                                           0   \n",
       "4                              1                                           0   \n",
       "\n",
       "  calculated_host_listings_count_private_rooms  \\\n",
       "0                                            1   \n",
       "1                                            0   \n",
       "2                                            0   \n",
       "3                                            1   \n",
       "4                                            1   \n",
       "\n",
       "  calculated_host_listings_count_shared_rooms reviews_per_month  \n",
       "0                                           0              0.31  \n",
       "1                                           0              0.30  \n",
       "2                                           0               NaN  \n",
       "3                                           0               NaN  \n",
       "4                                           0              0.01  \n",
       "\n",
       "[5 rows x 74 columns]"
      ]
     },
     "execution_count": 5,
     "metadata": {},
     "output_type": "execute_result"
    }
   ],
   "source": [
    "df_list.head()"
   ]
  },
  {
   "cell_type": "code",
   "execution_count": 6,
   "id": "challenging-flower",
   "metadata": {},
   "outputs": [
    {
     "data": {
      "text/plain": [
       "Index(['id', 'listing_url', 'scrape_id', 'last_scraped', 'name', 'description',\n",
       "       'neighborhood_overview', 'picture_url', 'host_id', 'host_url',\n",
       "       'host_name', 'host_since', 'host_location', 'host_about',\n",
       "       'host_response_time', 'host_response_rate', 'host_acceptance_rate',\n",
       "       'host_is_superhost', 'host_thumbnail_url', 'host_picture_url',\n",
       "       'host_neighbourhood', 'host_listings_count',\n",
       "       'host_total_listings_count', 'host_verifications',\n",
       "       'host_has_profile_pic', 'host_identity_verified', 'neighbourhood',\n",
       "       'neighbourhood_cleansed', 'neighbourhood_group_cleansed', 'latitude',\n",
       "       'longitude', 'property_type', 'room_type', 'accommodates', 'bathrooms',\n",
       "       'bathrooms_text', 'bedrooms', 'beds', 'amenities', 'price',\n",
       "       'minimum_nights', 'maximum_nights', 'minimum_minimum_nights',\n",
       "       'maximum_minimum_nights', 'minimum_maximum_nights',\n",
       "       'maximum_maximum_nights', 'minimum_nights_avg_ntm',\n",
       "       'maximum_nights_avg_ntm', 'calendar_updated', 'has_availability',\n",
       "       'availability_30', 'availability_60', 'availability_90',\n",
       "       'availability_365', 'calendar_last_scraped', 'number_of_reviews',\n",
       "       'number_of_reviews_ltm', 'number_of_reviews_l30d', 'first_review',\n",
       "       'last_review', 'review_scores_rating', 'review_scores_accuracy',\n",
       "       'review_scores_cleanliness', 'review_scores_checkin',\n",
       "       'review_scores_communication', 'review_scores_location',\n",
       "       'review_scores_value', 'license', 'instant_bookable',\n",
       "       'calculated_host_listings_count',\n",
       "       'calculated_host_listings_count_entire_homes',\n",
       "       'calculated_host_listings_count_private_rooms',\n",
       "       'calculated_host_listings_count_shared_rooms', 'reviews_per_month'],\n",
       "      dtype='object')"
      ]
     },
     "execution_count": 6,
     "metadata": {},
     "output_type": "execute_result"
    }
   ],
   "source": [
    "df_list.columns"
   ]
  },
  {
   "cell_type": "code",
   "execution_count": 7,
   "id": "valid-capitol",
   "metadata": {},
   "outputs": [],
   "source": [
    "df_ovr_ratings = df_list[['id','review_scores_rating']]"
   ]
  },
  {
   "cell_type": "code",
   "execution_count": 8,
   "id": "found-harvest",
   "metadata": {},
   "outputs": [
    {
     "data": {
      "text/html": [
       "<div>\n",
       "<style scoped>\n",
       "    .dataframe tbody tr th:only-of-type {\n",
       "        vertical-align: middle;\n",
       "    }\n",
       "\n",
       "    .dataframe tbody tr th {\n",
       "        vertical-align: top;\n",
       "    }\n",
       "\n",
       "    .dataframe thead th {\n",
       "        text-align: right;\n",
       "    }\n",
       "</style>\n",
       "<table border=\"1\" class=\"dataframe\">\n",
       "  <thead>\n",
       "    <tr style=\"text-align: right;\">\n",
       "      <th></th>\n",
       "      <th>id</th>\n",
       "      <th>review_scores_rating</th>\n",
       "    </tr>\n",
       "  </thead>\n",
       "  <tbody>\n",
       "    <tr>\n",
       "      <th>0</th>\n",
       "      <td>20815</td>\n",
       "      <td>90.0</td>\n",
       "    </tr>\n",
       "    <tr>\n",
       "      <th>1</th>\n",
       "      <td>27271</td>\n",
       "      <td>98.0</td>\n",
       "    </tr>\n",
       "    <tr>\n",
       "      <th>2</th>\n",
       "      <td>28318</td>\n",
       "      <td>NaN</td>\n",
       "    </tr>\n",
       "    <tr>\n",
       "      <th>3</th>\n",
       "      <td>29241</td>\n",
       "      <td>NaN</td>\n",
       "    </tr>\n",
       "    <tr>\n",
       "      <th>4</th>\n",
       "      <td>30697</td>\n",
       "      <td>80.0</td>\n",
       "    </tr>\n",
       "  </tbody>\n",
       "</table>\n",
       "</div>"
      ],
      "text/plain": [
       "      id  review_scores_rating\n",
       "0  20815                  90.0\n",
       "1  27271                  98.0\n",
       "2  28318                   NaN\n",
       "3  29241                   NaN\n",
       "4  30697                  80.0"
      ]
     },
     "execution_count": 8,
     "metadata": {},
     "output_type": "execute_result"
    }
   ],
   "source": [
    "df_ovr_ratings.head()"
   ]
  },
  {
   "cell_type": "code",
   "execution_count": 9,
   "id": "level-bennett",
   "metadata": {},
   "outputs": [
    {
     "name": "stdout",
     "output_type": "stream",
     "text": [
      "There is total of 23650 rows with 100.0 % of unique id numbers and 54.00845665961945 % of null values\n"
     ]
    }
   ],
   "source": [
    "print('There is total of',len(df_ovr_ratings),'rows with', (df_ovr_ratings['id'].nunique()/len(df_ovr_ratings))*100,'% of unique id numbers and', 100*df_ovr_ratings['review_scores_rating'].isna().sum()/len(df_ovr_ratings),'% of null values') "
   ]
  },
  {
   "cell_type": "markdown",
   "id": "democratic-operations",
   "metadata": {},
   "source": [
    "We have a unique set of ratings and id numbers. However, we have some null values on ratings side. There are several methods for dealing with the null values. However, in this case, more than half of the ids ."
   ]
  },
  {
   "cell_type": "code",
   "execution_count": 10,
   "id": "bulgarian-pledge",
   "metadata": {},
   "outputs": [
    {
     "name": "stderr",
     "output_type": "stream",
     "text": [
      "<ipython-input-10-40f3fab5a1d2>:1: SettingWithCopyWarning: \n",
      "A value is trying to be set on a copy of a slice from a DataFrame\n",
      "\n",
      "See the caveats in the documentation: https://pandas.pydata.org/pandas-docs/stable/user_guide/indexing.html#returning-a-view-versus-a-copy\n",
      "  df_ovr_ratings.dropna(inplace=True)\n"
     ]
    }
   ],
   "source": [
    "df_ovr_ratings.dropna(inplace=True)"
   ]
  },
  {
   "cell_type": "code",
   "execution_count": 11,
   "id": "foster-premises",
   "metadata": {},
   "outputs": [
    {
     "name": "stdout",
     "output_type": "stream",
     "text": [
      "There is total of 10877 rows with 100.0 % of unique id numbers\n"
     ]
    }
   ],
   "source": [
    "print('There is total of',len(df_ovr_ratings),'rows with', (df_ovr_ratings['id'].nunique()/len(df_ovr_ratings))*100,'% of unique id numbers')"
   ]
  },
  {
   "cell_type": "markdown",
   "id": "theoretical-kentucky",
   "metadata": {},
   "source": [
    "Ratings set is now ready. Let's look at the ratings a little bit more closer. "
   ]
  },
  {
   "cell_type": "code",
   "execution_count": 12,
   "id": "operational-outline",
   "metadata": {},
   "outputs": [
    {
     "data": {
      "image/png": "[encoded data removed]",
      "text/plain": [
       "<Figure size 432x288 with 1 Axes>"
      ]
     },
     "metadata": {
      "needs_background": "light"
     },
     "output_type": "display_data"
    }
   ],
   "source": [
    "plt.hist(df_ovr_ratings['review_scores_rating'])\n",
    "plt.title('Histogram of overall ratings')\n",
    "plt.xlabel('Ratings')\n",
    "plt.show()"
   ]
  },
  {
   "cell_type": "markdown",
   "id": "trained-british",
   "metadata": {},
   "source": [
    "## Prepare Data"
   ]
  },
  {
   "cell_type": "markdown",
   "id": "radio-heating",
   "metadata": {},
   "source": [
    "Let's define a function for preprocessing."
   ]
  },
  {
   "cell_type": "code",
   "execution_count": 13,
   "id": "usual-manhattan",
   "metadata": {},
   "outputs": [],
   "source": [
    "def preprocess(text):\n",
    "\n",
    "    # transform all to the lowercase\n",
    "    text=text.lower()\n",
    "    # remove hyperlinks if any\n",
    "    text = re.sub(r'https?:\\/\\/.*[\\r\\n]*', '', text)\n",
    "    text = re.sub(r'http?:\\/\\/.*[\\r\\n]*', '', text)\n",
    "    #Replace &amp, &lt, &gt with &,<,> respectively\n",
    "    text=text.replace(r'&amp;?',r'and')\n",
    "    text=text.replace(r'&lt;',r'<')\n",
    "    text=text.replace(r'&gt;',r'>') \n",
    "    #remove non ascii chars\n",
    "    text=text.encode(\"ascii\",errors=\"ignore\").decode()\n",
    "    #remove some puncts\n",
    "    text=re.sub(r'[:\"#$%&\\*+,-/:;<=>@\\\\^_`!?.{|}~]+','',text)\n",
    "    text=re.sub(r\"'\",\"\",text)\n",
    "    text=re.sub(r\"\\(\",\"\",text)\n",
    "    text=re.sub(r\"\\)\",\"\",text)\n",
    "    \n",
    "    text=\" \".join(text.split())\n",
    "    return text"
   ]
  },
  {
   "cell_type": "code",
   "execution_count": 14,
   "id": "perceived-shadow",
   "metadata": {},
   "outputs": [],
   "source": [
    "df_com.comments = df_com.comments.astype(str)"
   ]
  },
  {
   "cell_type": "code",
   "execution_count": 15,
   "id": "published-leather",
   "metadata": {},
   "outputs": [],
   "source": [
    "df_com['comments'] =df_com['comments'].apply(preprocess) "
   ]
  },
  {
   "cell_type": "code",
   "execution_count": 16,
   "id": "earlier-hierarchy",
   "metadata": {},
   "outputs": [
    {
     "name": "stdout",
     "output_type": "stream",
     "text": [
      "There are 47204197 words in the combination of all comments.\n"
     ]
    }
   ],
   "source": [
    "wordcloud_text = \" \".join(desc for desc in df_com.comments)\n",
    "print (\"There are {} words in the combination of all comments.\".format(len(wordcloud_text)))"
   ]
  },
  {
   "cell_type": "code",
   "execution_count": 17,
   "id": "loving-indonesian",
   "metadata": {},
   "outputs": [
    {
     "data": {
      "image/png": "[encoded data removed]",
      "text/plain": [
       "<Figure size 432x288 with 1 Axes>"
      ]
     },
     "metadata": {
      "needs_background": "light"
     },
     "output_type": "display_data"
    }
   ],
   "source": [
    "stopwords = set(STOPWORDS)\n",
    "wordcloud = WordCloud(stopwords=stopwords, background_color=\"white\").generate(wordcloud_text)\n",
    "\n",
    "plt.imshow(wordcloud, interpolation='bilinear')\n",
    "plt.axis(\"off\")\n",
    "plt.show()"
   ]
  },
  {
   "cell_type": "markdown",
   "id": "creative-whale",
   "metadata": {},
   "source": [
    "As seen, words like stay, istanbul, apartment, place are very common words. I prefer to remove them in the first place because they are not distinctive for opinions. "
   ]
  },
  {
   "cell_type": "code",
   "execution_count": 18,
   "id": "compact-static",
   "metadata": {},
   "outputs": [],
   "source": [
    "stopwords.update(['stay','istanbul','apartment','place'])"
   ]
  },
  {
   "cell_type": "code",
   "execution_count": 19,
   "id": "introductory-inclusion",
   "metadata": {},
   "outputs": [
    {
     "data": {
      "image/png": "[encoded data removed]",
      "text/plain": [
       "<Figure size 432x288 with 1 Axes>"
      ]
     },
     "metadata": {
      "needs_background": "light"
     },
     "output_type": "display_data"
    }
   ],
   "source": [
    "wordcloud = WordCloud(stopwords=stopwords, background_color=\"white\").generate(wordcloud_text)\n",
    "\n",
    "plt.imshow(wordcloud, interpolation='bilinear')\n",
    "plt.axis(\"off\")\n",
    "plt.show()"
   ]
  },
  {
   "cell_type": "markdown",
   "id": "defined-substance",
   "metadata": {},
   "source": [
    "As seen, used words make a little bit more sense now. So, let's keep the stopwords as updated by four words, and extract them from the column. "
   ]
  },
  {
   "cell_type": "code",
   "execution_count": 20,
   "id": "detailed-acquisition",
   "metadata": {},
   "outputs": [],
   "source": [
    "df_com['comments'] = df_com['comments'].apply(lambda x: ' '.join([item for item in x.split() if item not in stopwords]))"
   ]
  },
  {
   "cell_type": "code",
   "execution_count": 21,
   "id": "infectious-consolidation",
   "metadata": {},
   "outputs": [
    {
     "name": "stdout",
     "output_type": "stream",
     "text": [
      "There are 32150465 words in the combination of all comments.\n"
     ]
    }
   ],
   "source": [
    "control_text = \" \".join(desc for desc in df_com.comments)\n",
    "print (\"There are {} words in the combination of all comments.\".format(len(control_text)))"
   ]
  },
  {
   "cell_type": "markdown",
   "id": "differential-software",
   "metadata": {},
   "source": [
    "## Data Modeling"
   ]
  },
  {
   "cell_type": "markdown",
   "id": "moral-webmaster",
   "metadata": {},
   "source": [
    "Let's model with the preprocessed data now!"
   ]
  },
  {
   "cell_type": "code",
   "execution_count": 22,
   "id": "overall-growth",
   "metadata": {},
   "outputs": [],
   "source": [
    "sid = SentimentIntensityAnalyzer()"
   ]
  },
  {
   "cell_type": "code",
   "execution_count": 23,
   "id": "special-invite",
   "metadata": {},
   "outputs": [],
   "source": [
    "df_com['scores'] = df_com['comments'].apply(lambda review: sid.polarity_scores(review))"
   ]
  },
  {
   "cell_type": "code",
   "execution_count": 24,
   "id": "fluid-february",
   "metadata": {},
   "outputs": [
    {
     "data": {
      "text/html": [
       "<div>\n",
       "<style scoped>\n",
       "    .dataframe tbody tr th:only-of-type {\n",
       "        vertical-align: middle;\n",
       "    }\n",
       "\n",
       "    .dataframe tbody tr th {\n",
       "        vertical-align: top;\n",
       "    }\n",
       "\n",
       "    .dataframe thead th {\n",
       "        text-align: right;\n",
       "    }\n",
       "</style>\n",
       "<table border=\"1\" class=\"dataframe\">\n",
       "  <thead>\n",
       "    <tr style=\"text-align: right;\">\n",
       "      <th></th>\n",
       "      <th>listing_id</th>\n",
       "      <th>id</th>\n",
       "      <th>date</th>\n",
       "      <th>reviewer_id</th>\n",
       "      <th>reviewer_name</th>\n",
       "      <th>comments</th>\n",
       "      <th>scores</th>\n",
       "    </tr>\n",
       "  </thead>\n",
       "  <tbody>\n",
       "    <tr>\n",
       "      <th>0</th>\n",
       "      <td>20815</td>\n",
       "      <td>31174</td>\n",
       "      <td>2010-03-24</td>\n",
       "      <td>49388</td>\n",
       "      <td>Chuck</td>\n",
       "      <td>daughter friend stayed apt owned gulder husban...</td>\n",
       "      <td>{'neg': 0.026, 'neu': 0.671, 'pos': 0.303, 'co...</td>\n",
       "    </tr>\n",
       "    <tr>\n",
       "      <th>1</th>\n",
       "      <td>20815</td>\n",
       "      <td>40738</td>\n",
       "      <td>2010-05-08</td>\n",
       "      <td>93598</td>\n",
       "      <td>Sara</td>\n",
       "      <td>find better turkey firat basar imagine staying...</td>\n",
       "      <td>{'neg': 0.024, 'neu': 0.688, 'pos': 0.288, 'co...</td>\n",
       "    </tr>\n",
       "    <tr>\n",
       "      <th>2</th>\n",
       "      <td>20815</td>\n",
       "      <td>49182</td>\n",
       "      <td>2010-06-02</td>\n",
       "      <td>108540</td>\n",
       "      <td>Suzan</td>\n",
       "      <td>comfortable truly deserves name bosphorus bed ...</td>\n",
       "      <td>{'neg': 0.019, 'neu': 0.694, 'pos': 0.287, 'co...</td>\n",
       "    </tr>\n",
       "    <tr>\n",
       "      <th>3</th>\n",
       "      <td>20815</td>\n",
       "      <td>85462</td>\n",
       "      <td>2010-08-27</td>\n",
       "      <td>126482</td>\n",
       "      <td>William</td>\n",
       "      <td>second excellent reviews neighborhood located ...</td>\n",
       "      <td>{'neg': 0.047, 'neu': 0.66, 'pos': 0.292, 'com...</td>\n",
       "    </tr>\n",
       "    <tr>\n",
       "      <th>4</th>\n",
       "      <td>20815</td>\n",
       "      <td>89515</td>\n",
       "      <td>2010-09-03</td>\n",
       "      <td>180502</td>\n",
       "      <td>Pamela</td>\n",
       "      <td>thanks firat especially arda kind hospitality ...</td>\n",
       "      <td>{'neg': 0.013, 'neu': 0.586, 'pos': 0.401, 'co...</td>\n",
       "    </tr>\n",
       "  </tbody>\n",
       "</table>\n",
       "</div>"
      ],
      "text/plain": [
       "   listing_id     id        date  reviewer_id reviewer_name  \\\n",
       "0       20815  31174  2010-03-24        49388         Chuck   \n",
       "1       20815  40738  2010-05-08        93598          Sara   \n",
       "2       20815  49182  2010-06-02       108540         Suzan   \n",
       "3       20815  85462  2010-08-27       126482       William   \n",
       "4       20815  89515  2010-09-03       180502        Pamela   \n",
       "\n",
       "                                            comments  \\\n",
       "0  daughter friend stayed apt owned gulder husban...   \n",
       "1  find better turkey firat basar imagine staying...   \n",
       "2  comfortable truly deserves name bosphorus bed ...   \n",
       "3  second excellent reviews neighborhood located ...   \n",
       "4  thanks firat especially arda kind hospitality ...   \n",
       "\n",
       "                                              scores  \n",
       "0  {'neg': 0.026, 'neu': 0.671, 'pos': 0.303, 'co...  \n",
       "1  {'neg': 0.024, 'neu': 0.688, 'pos': 0.288, 'co...  \n",
       "2  {'neg': 0.019, 'neu': 0.694, 'pos': 0.287, 'co...  \n",
       "3  {'neg': 0.047, 'neu': 0.66, 'pos': 0.292, 'com...  \n",
       "4  {'neg': 0.013, 'neu': 0.586, 'pos': 0.401, 'co...  "
      ]
     },
     "execution_count": 24,
     "metadata": {},
     "output_type": "execute_result"
    }
   ],
   "source": [
    "df_com.head()"
   ]
  },
  {
   "cell_type": "code",
   "execution_count": 25,
   "id": "quiet-boost",
   "metadata": {},
   "outputs": [
    {
     "data": {
      "text/plain": [
       "{'neg': 0.026, 'neu': 0.671, 'pos': 0.303, 'compound': 0.9913}"
      ]
     },
     "execution_count": 25,
     "metadata": {},
     "output_type": "execute_result"
    }
   ],
   "source": [
    "df_com['scores'][0]"
   ]
  },
  {
   "cell_type": "code",
   "execution_count": 26,
   "id": "comic-humanitarian",
   "metadata": {},
   "outputs": [],
   "source": [
    "df_com['compound']  = df_com['scores'].apply(lambda score_dict: score_dict['compound'])"
   ]
  },
  {
   "cell_type": "code",
   "execution_count": 27,
   "id": "connected-stewart",
   "metadata": {},
   "outputs": [
    {
     "data": {
      "text/html": [
       "<div>\n",
       "<style scoped>\n",
       "    .dataframe tbody tr th:only-of-type {\n",
       "        vertical-align: middle;\n",
       "    }\n",
       "\n",
       "    .dataframe tbody tr th {\n",
       "        vertical-align: top;\n",
       "    }\n",
       "\n",
       "    .dataframe thead th {\n",
       "        text-align: right;\n",
       "    }\n",
       "</style>\n",
       "<table border=\"1\" class=\"dataframe\">\n",
       "  <thead>\n",
       "    <tr style=\"text-align: right;\">\n",
       "      <th></th>\n",
       "      <th>listing_id</th>\n",
       "      <th>id</th>\n",
       "      <th>date</th>\n",
       "      <th>reviewer_id</th>\n",
       "      <th>reviewer_name</th>\n",
       "      <th>comments</th>\n",
       "      <th>scores</th>\n",
       "      <th>compound</th>\n",
       "    </tr>\n",
       "  </thead>\n",
       "  <tbody>\n",
       "    <tr>\n",
       "      <th>0</th>\n",
       "      <td>20815</td>\n",
       "      <td>31174</td>\n",
       "      <td>2010-03-24</td>\n",
       "      <td>49388</td>\n",
       "      <td>Chuck</td>\n",
       "      <td>daughter friend stayed apt owned gulder husban...</td>\n",
       "      <td>{'neg': 0.026, 'neu': 0.671, 'pos': 0.303, 'co...</td>\n",
       "      <td>0.9913</td>\n",
       "    </tr>\n",
       "    <tr>\n",
       "      <th>1</th>\n",
       "      <td>20815</td>\n",
       "      <td>40738</td>\n",
       "      <td>2010-05-08</td>\n",
       "      <td>93598</td>\n",
       "      <td>Sara</td>\n",
       "      <td>find better turkey firat basar imagine staying...</td>\n",
       "      <td>{'neg': 0.024, 'neu': 0.688, 'pos': 0.288, 'co...</td>\n",
       "      <td>0.9831</td>\n",
       "    </tr>\n",
       "    <tr>\n",
       "      <th>2</th>\n",
       "      <td>20815</td>\n",
       "      <td>49182</td>\n",
       "      <td>2010-06-02</td>\n",
       "      <td>108540</td>\n",
       "      <td>Suzan</td>\n",
       "      <td>comfortable truly deserves name bosphorus bed ...</td>\n",
       "      <td>{'neg': 0.019, 'neu': 0.694, 'pos': 0.287, 'co...</td>\n",
       "      <td>0.9956</td>\n",
       "    </tr>\n",
       "    <tr>\n",
       "      <th>3</th>\n",
       "      <td>20815</td>\n",
       "      <td>85462</td>\n",
       "      <td>2010-08-27</td>\n",
       "      <td>126482</td>\n",
       "      <td>William</td>\n",
       "      <td>second excellent reviews neighborhood located ...</td>\n",
       "      <td>{'neg': 0.047, 'neu': 0.66, 'pos': 0.292, 'com...</td>\n",
       "      <td>0.9163</td>\n",
       "    </tr>\n",
       "    <tr>\n",
       "      <th>4</th>\n",
       "      <td>20815</td>\n",
       "      <td>89515</td>\n",
       "      <td>2010-09-03</td>\n",
       "      <td>180502</td>\n",
       "      <td>Pamela</td>\n",
       "      <td>thanks firat especially arda kind hospitality ...</td>\n",
       "      <td>{'neg': 0.013, 'neu': 0.586, 'pos': 0.401, 'co...</td>\n",
       "      <td>0.9953</td>\n",
       "    </tr>\n",
       "  </tbody>\n",
       "</table>\n",
       "</div>"
      ],
      "text/plain": [
       "   listing_id     id        date  reviewer_id reviewer_name  \\\n",
       "0       20815  31174  2010-03-24        49388         Chuck   \n",
       "1       20815  40738  2010-05-08        93598          Sara   \n",
       "2       20815  49182  2010-06-02       108540         Suzan   \n",
       "3       20815  85462  2010-08-27       126482       William   \n",
       "4       20815  89515  2010-09-03       180502        Pamela   \n",
       "\n",
       "                                            comments  \\\n",
       "0  daughter friend stayed apt owned gulder husban...   \n",
       "1  find better turkey firat basar imagine staying...   \n",
       "2  comfortable truly deserves name bosphorus bed ...   \n",
       "3  second excellent reviews neighborhood located ...   \n",
       "4  thanks firat especially arda kind hospitality ...   \n",
       "\n",
       "                                              scores  compound  \n",
       "0  {'neg': 0.026, 'neu': 0.671, 'pos': 0.303, 'co...    0.9913  \n",
       "1  {'neg': 0.024, 'neu': 0.688, 'pos': 0.288, 'co...    0.9831  \n",
       "2  {'neg': 0.019, 'neu': 0.694, 'pos': 0.287, 'co...    0.9956  \n",
       "3  {'neg': 0.047, 'neu': 0.66, 'pos': 0.292, 'com...    0.9163  \n",
       "4  {'neg': 0.013, 'neu': 0.586, 'pos': 0.401, 'co...    0.9953  "
      ]
     },
     "execution_count": 27,
     "metadata": {},
     "output_type": "execute_result"
    }
   ],
   "source": [
    "df_com.head()"
   ]
  },
  {
   "cell_type": "code",
   "execution_count": 28,
   "id": "lyric-reggae",
   "metadata": {},
   "outputs": [
    {
     "data": {
      "image/png": "[encoded data removed]",
      "text/plain": [
       "<Figure size 432x288 with 1 Axes>"
      ]
     },
     "metadata": {
      "needs_background": "light"
     },
     "output_type": "display_data"
    }
   ],
   "source": [
    "plt.hist(df_com['compound'])\n",
    "plt.show()"
   ]
  },
  {
   "cell_type": "markdown",
   "id": "smart-matrix",
   "metadata": {},
   "source": [
    "As seen, there is positive and negative compound values. Positives are positive comments and negatives are negative comments. Before assign them -1 and +1, let's see if compound values is correlated with ratings or not."
   ]
  },
  {
   "cell_type": "code",
   "execution_count": 29,
   "id": "unauthorized-mention",
   "metadata": {},
   "outputs": [],
   "source": [
    "df_comments_avg = df_com.groupby(['listing_id'])['compound'].mean()"
   ]
  },
  {
   "cell_type": "code",
   "execution_count": 30,
   "id": "sunset-italian",
   "metadata": {},
   "outputs": [],
   "source": [
    "df_comments_avg = pd.DataFrame(df_comments_avg)"
   ]
  },
  {
   "cell_type": "code",
   "execution_count": 31,
   "id": "russian-aquarium",
   "metadata": {},
   "outputs": [
    {
     "data": {
      "text/html": [
       "<div>\n",
       "<style scoped>\n",
       "    .dataframe tbody tr th:only-of-type {\n",
       "        vertical-align: middle;\n",
       "    }\n",
       "\n",
       "    .dataframe tbody tr th {\n",
       "        vertical-align: top;\n",
       "    }\n",
       "\n",
       "    .dataframe thead th {\n",
       "        text-align: right;\n",
       "    }\n",
       "</style>\n",
       "<table border=\"1\" class=\"dataframe\">\n",
       "  <thead>\n",
       "    <tr style=\"text-align: right;\">\n",
       "      <th></th>\n",
       "      <th>compound</th>\n",
       "    </tr>\n",
       "    <tr>\n",
       "      <th>listing_id</th>\n",
       "      <th></th>\n",
       "    </tr>\n",
       "  </thead>\n",
       "  <tbody>\n",
       "    <tr>\n",
       "      <th>20815</th>\n",
       "      <td>0.755339</td>\n",
       "    </tr>\n",
       "    <tr>\n",
       "      <th>27271</th>\n",
       "      <td>0.704970</td>\n",
       "    </tr>\n",
       "    <tr>\n",
       "      <th>30697</th>\n",
       "      <td>0.986000</td>\n",
       "    </tr>\n",
       "    <tr>\n",
       "      <th>33368</th>\n",
       "      <td>0.977300</td>\n",
       "    </tr>\n",
       "    <tr>\n",
       "      <th>35580</th>\n",
       "      <td>0.568582</td>\n",
       "    </tr>\n",
       "    <tr>\n",
       "      <th>...</th>\n",
       "      <td>...</td>\n",
       "    </tr>\n",
       "    <tr>\n",
       "      <th>47228209</th>\n",
       "      <td>0.796400</td>\n",
       "    </tr>\n",
       "    <tr>\n",
       "      <th>47233233</th>\n",
       "      <td>-0.401900</td>\n",
       "    </tr>\n",
       "    <tr>\n",
       "      <th>47236679</th>\n",
       "      <td>0.556300</td>\n",
       "    </tr>\n",
       "    <tr>\n",
       "      <th>47264225</th>\n",
       "      <td>0.953100</td>\n",
       "    </tr>\n",
       "    <tr>\n",
       "      <th>47268777</th>\n",
       "      <td>0.000000</td>\n",
       "    </tr>\n",
       "  </tbody>\n",
       "</table>\n",
       "<p>11337 rows × 1 columns</p>\n",
       "</div>"
      ],
      "text/plain": [
       "            compound\n",
       "listing_id          \n",
       "20815       0.755339\n",
       "27271       0.704970\n",
       "30697       0.986000\n",
       "33368       0.977300\n",
       "35580       0.568582\n",
       "...              ...\n",
       "47228209    0.796400\n",
       "47233233   -0.401900\n",
       "47236679    0.556300\n",
       "47264225    0.953100\n",
       "47268777    0.000000\n",
       "\n",
       "[11337 rows x 1 columns]"
      ]
     },
     "execution_count": 31,
     "metadata": {},
     "output_type": "execute_result"
    }
   ],
   "source": [
    "df_comments_avg"
   ]
  },
  {
   "cell_type": "code",
   "execution_count": 32,
   "id": "proved-peninsula",
   "metadata": {},
   "outputs": [],
   "source": [
    "df_ovr_ratings.set_index(['id'],inplace=True)"
   ]
  },
  {
   "cell_type": "code",
   "execution_count": 33,
   "id": "occasional-knife",
   "metadata": {},
   "outputs": [
    {
     "data": {
      "text/html": [
       "<div>\n",
       "<style scoped>\n",
       "    .dataframe tbody tr th:only-of-type {\n",
       "        vertical-align: middle;\n",
       "    }\n",
       "\n",
       "    .dataframe tbody tr th {\n",
       "        vertical-align: top;\n",
       "    }\n",
       "\n",
       "    .dataframe thead th {\n",
       "        text-align: right;\n",
       "    }\n",
       "</style>\n",
       "<table border=\"1\" class=\"dataframe\">\n",
       "  <thead>\n",
       "    <tr style=\"text-align: right;\">\n",
       "      <th></th>\n",
       "      <th>review_scores_rating</th>\n",
       "    </tr>\n",
       "    <tr>\n",
       "      <th>id</th>\n",
       "      <th></th>\n",
       "    </tr>\n",
       "  </thead>\n",
       "  <tbody>\n",
       "    <tr>\n",
       "      <th>20815</th>\n",
       "      <td>90.0</td>\n",
       "    </tr>\n",
       "    <tr>\n",
       "      <th>27271</th>\n",
       "      <td>98.0</td>\n",
       "    </tr>\n",
       "    <tr>\n",
       "      <th>30697</th>\n",
       "      <td>80.0</td>\n",
       "    </tr>\n",
       "    <tr>\n",
       "      <th>33368</th>\n",
       "      <td>100.0</td>\n",
       "    </tr>\n",
       "    <tr>\n",
       "      <th>35580</th>\n",
       "      <td>90.0</td>\n",
       "    </tr>\n",
       "    <tr>\n",
       "      <th>...</th>\n",
       "      <td>...</td>\n",
       "    </tr>\n",
       "    <tr>\n",
       "      <th>47228209</th>\n",
       "      <td>60.0</td>\n",
       "    </tr>\n",
       "    <tr>\n",
       "      <th>47233233</th>\n",
       "      <td>100.0</td>\n",
       "    </tr>\n",
       "    <tr>\n",
       "      <th>47236679</th>\n",
       "      <td>100.0</td>\n",
       "    </tr>\n",
       "    <tr>\n",
       "      <th>47264225</th>\n",
       "      <td>100.0</td>\n",
       "    </tr>\n",
       "    <tr>\n",
       "      <th>47268777</th>\n",
       "      <td>100.0</td>\n",
       "    </tr>\n",
       "  </tbody>\n",
       "</table>\n",
       "<p>10877 rows × 1 columns</p>\n",
       "</div>"
      ],
      "text/plain": [
       "          review_scores_rating\n",
       "id                            \n",
       "20815                     90.0\n",
       "27271                     98.0\n",
       "30697                     80.0\n",
       "33368                    100.0\n",
       "35580                     90.0\n",
       "...                        ...\n",
       "47228209                  60.0\n",
       "47233233                 100.0\n",
       "47236679                 100.0\n",
       "47264225                 100.0\n",
       "47268777                 100.0\n",
       "\n",
       "[10877 rows x 1 columns]"
      ]
     },
     "execution_count": 33,
     "metadata": {},
     "output_type": "execute_result"
    }
   ],
   "source": [
    "df_ovr_ratings"
   ]
  },
  {
   "cell_type": "code",
   "execution_count": 34,
   "id": "social-fence",
   "metadata": {},
   "outputs": [
    {
     "data": {
      "text/plain": [
       "Int64Index([   20815,    27271,    30697,    33368,    35580,    41753,\n",
       "               44421,    44429,    47264,    48346,\n",
       "            ...\n",
       "            47201375, 47210711, 47214764, 47219427, 47227995, 47228209,\n",
       "            47233233, 47236679, 47264225, 47268777],\n",
       "           dtype='int64', name='id', length=11337)"
      ]
     },
     "execution_count": 34,
     "metadata": {},
     "output_type": "execute_result"
    }
   ],
   "source": [
    "df_comments_avg.index.rename('id')"
   ]
  },
  {
   "cell_type": "code",
   "execution_count": 35,
   "id": "drawn-amateur",
   "metadata": {},
   "outputs": [],
   "source": [
    "merged_df = df_ovr_ratings.join(df_comments_avg,how='inner',on='id')"
   ]
  },
  {
   "cell_type": "code",
   "execution_count": 36,
   "id": "another-smith",
   "metadata": {},
   "outputs": [
    {
     "data": {
      "text/html": [
       "<div>\n",
       "<style scoped>\n",
       "    .dataframe tbody tr th:only-of-type {\n",
       "        vertical-align: middle;\n",
       "    }\n",
       "\n",
       "    .dataframe tbody tr th {\n",
       "        vertical-align: top;\n",
       "    }\n",
       "\n",
       "    .dataframe thead th {\n",
       "        text-align: right;\n",
       "    }\n",
       "</style>\n",
       "<table border=\"1\" class=\"dataframe\">\n",
       "  <thead>\n",
       "    <tr style=\"text-align: right;\">\n",
       "      <th></th>\n",
       "      <th>review_scores_rating</th>\n",
       "      <th>compound</th>\n",
       "    </tr>\n",
       "    <tr>\n",
       "      <th>id</th>\n",
       "      <th></th>\n",
       "      <th></th>\n",
       "    </tr>\n",
       "  </thead>\n",
       "  <tbody>\n",
       "    <tr>\n",
       "      <th>20815</th>\n",
       "      <td>90.0</td>\n",
       "      <td>0.755339</td>\n",
       "    </tr>\n",
       "    <tr>\n",
       "      <th>27271</th>\n",
       "      <td>98.0</td>\n",
       "      <td>0.704970</td>\n",
       "    </tr>\n",
       "    <tr>\n",
       "      <th>30697</th>\n",
       "      <td>80.0</td>\n",
       "      <td>0.986000</td>\n",
       "    </tr>\n",
       "    <tr>\n",
       "      <th>33368</th>\n",
       "      <td>100.0</td>\n",
       "      <td>0.977300</td>\n",
       "    </tr>\n",
       "    <tr>\n",
       "      <th>35580</th>\n",
       "      <td>90.0</td>\n",
       "      <td>0.568582</td>\n",
       "    </tr>\n",
       "  </tbody>\n",
       "</table>\n",
       "</div>"
      ],
      "text/plain": [
       "       review_scores_rating  compound\n",
       "id                                   \n",
       "20815                  90.0  0.755339\n",
       "27271                  98.0  0.704970\n",
       "30697                  80.0  0.986000\n",
       "33368                 100.0  0.977300\n",
       "35580                  90.0  0.568582"
      ]
     },
     "execution_count": 36,
     "metadata": {},
     "output_type": "execute_result"
    }
   ],
   "source": [
    "merged_df.head()"
   ]
  },
  {
   "cell_type": "markdown",
   "id": "about-facing",
   "metadata": {},
   "source": [
    "Now, let's see the plot"
   ]
  },
  {
   "cell_type": "code",
   "execution_count": 37,
   "id": "ranging-return",
   "metadata": {},
   "outputs": [
    {
     "data": {
      "image/png": "[encoded data removed]",
      "text/plain": [
       "<Figure size 432x288 with 1 Axes>"
      ]
     },
     "metadata": {
      "needs_background": "light"
     },
     "output_type": "display_data"
    }
   ],
   "source": [
    "plt.scatter(merged_df['review_scores_rating'],merged_df['compound'])\n",
    "plt.xlabel('Rating')\n",
    "plt.ylabel('Opinion Score')\n",
    "plt.show()"
   ]
  },
  {
   "cell_type": "markdown",
   "id": "brutal-transformation",
   "metadata": {},
   "source": [
    "## Results"
   ]
  },
  {
   "cell_type": "markdown",
   "id": "optical-therapist",
   "metadata": {},
   "source": [
    "Interesting point is, there seems to be a correlation between comments and reviews at higher ratings, however, clearly there is no correlation at lower ratings. "
   ]
  }
 ],
 "metadata": {
  "kernelspec": {
   "display_name": "Python 3",
   "language": "python",
   "name": "python3"
  },
  "language_info": {
   "codemirror_mode": {
    "name": "ipython",
    "version": 3
   },
   "file_extension": ".py",
   "mimetype": "text/x-python",
   "name": "python",
   "nbconvert_exporter": "python",
   "pygments_lexer": "ipython3",
   "version": "3.8.5"
  }
 },
 "nbformat": 4,
 "nbformat_minor": 5
}
